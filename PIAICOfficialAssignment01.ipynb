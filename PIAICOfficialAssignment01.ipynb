{
 "cells": [
  {
   "cell_type": "markdown",
   "metadata": {},
   "source": [
    "#  1. Write a Python program which accepts the radius of a circle from the user and compute the area.\\n\",\n",
    "#### Program Console Sample Output 1:\\n\",\n",
    "#### Input Radius: 0.5\\n\",\n",
    "#### Area of Circle with radius 0.5 is 0.7853981634\""
   ]
  },
  {
   "cell_type": "code",
   "execution_count": 5,
   "metadata": {},
   "outputs": [
    {
     "name": "stdout",
     "output_type": "stream",
     "text": [
      "Enter Radius : 0.5\n",
      "Radius of a Circle is 0.5 and Area of a Circle 0.7855\n"
     ]
    }
   ],
   "source": [
    "radius = float(input(\"Enter Radius : \"))\n",
    "area = 3.142*radius**2\n",
    "print(f\"Radius of a Circle is {radius} and Area of a Circle {area}\")"
   ]
  },
  {
   "cell_type": "markdown",
   "metadata": {},
   "source": [
    "# 2. Write a Python program to check if a number is positive, negative or zero\\n\",\n",
    "#### Program Console Sample Output 1:\\n\",\n",
    "#### Enter Number: -1\\n\",\n",
    "##### Negative Number Entered\\n\",\n",
    "###### Program Console Sample Output 2:\\n\",\n",
    "##### Integer: 3\\n\",\n",
    "##### Positive Number Entered\\n\",\n",
    "###### Program Console Sample Output 3:\\n\",\n",
    "##### Integer: 0\\n\",\n",
    "###### Zero Entered\""
   ]
  },
  {
   "cell_type": "code",
   "execution_count": 6,
   "metadata": {},
   "outputs": [
    {
     "name": "stdout",
     "output_type": "stream",
     "text": [
      "Enter Number5\n",
      "Positive Number\n"
     ]
    }
   ],
   "source": [
    "num = int(input(\"Enter Number\"))\n",
    "if (num>0):\n",
    "    print(\"Positive Number\")\n",
    "elif(num<0):\n",
    "    print(\"Negative Number\")\n",
    "else:\n",
    "    print(\"Zero Number\")"
   ]
  },
  {
   "cell_type": "code",
   "execution_count": 7,
   "metadata": {},
   "outputs": [
    {
     "name": "stdout",
     "output_type": "stream",
     "text": [
      "Enter Number0\n",
      "Zero Number\n"
     ]
    }
   ],
   "source": [
    "num = int(input(\"Enter Number\"))\n",
    "if (num>0):\n",
    "    print(\"Positive Number\")\n",
    "elif(num<0):\n",
    "    print(\"Negative Number\")\n",
    "else:\n",
    "    print(\"Zero Number\")"
   ]
  },
  {
   "cell_type": "code",
   "execution_count": 8,
   "metadata": {},
   "outputs": [
    {
     "name": "stdout",
     "output_type": "stream",
     "text": [
      "Enter Number-6\n",
      "Negative Number\n"
     ]
    }
   ],
   "source": [
    "num = int(input(\"Enter Number\"))\n",
    "if (num>0):\n",
    "    print(\"Positive Number\")\n",
    "elif(num<0):\n",
    "    print(\"Negative Number\")\n",
    "else:\n",
    "    print(\"Zero Number\")"
   ]
  },
  {
   "cell_type": "markdown",
   "metadata": {},
   "source": [
    "# 3. Write a Python program to check whether a number is completely divisible by another number. Accept two integer values form the user\\n\",\n",
    "##### Program Console Sample Output 1:\\n\",\n",
    "###### Enter numerator: 4\\n\",\n",
    "###### Enter Denominator: 2\\n\",\n",
    "##### Number 4 is Completely divisible by 2\\n\",\n",
    "###### Program Console Sample Output 2:\\n\",\n",
    "##### Enter numerator: 7\\n\",\n",
    "##### Enter Denominator: 4\\n\",\n",
    "###### Number 7 is not Completely divisible by 4"
   ]
  },
  {
   "cell_type": "code",
   "execution_count": 11,
   "metadata": {},
   "outputs": [
    {
     "name": "stdout",
     "output_type": "stream",
     "text": [
      "Enter Numerator : 7\n",
      "Enter Denumerator : 4\n",
      "7 is not completely divisable by 4\n"
     ]
    }
   ],
   "source": [
    "num1 = int(input(\"Enter Numerator : \"))\n",
    "num2 = int(input(\"Enter Denumerator : \"))\n",
    "check = num1%num2\n",
    "if(check==0):\n",
    "    print(f\"{num1} is divisable by {num2}\")\n",
    "else:\n",
    "    print(f\"{num1} is not completely divisable by {num2}\")"
   ]
  },
  {
   "cell_type": "code",
   "execution_count": 12,
   "metadata": {},
   "outputs": [
    {
     "name": "stdout",
     "output_type": "stream",
     "text": [
      "Enter Numerator : 4\n",
      "Enter Denumerator : 2\n",
      "4 is divisable by 2\n"
     ]
    }
   ],
   "source": [
    "num1 = int(input(\"Enter Numerator : \"))\n",
    "num2 = int(input(\"Enter Denumerator : \"))\n",
    "check = num1%num2\n",
    "if(check==0):\n",
    "    print(f\"{num1} is divisable by {num2}\")\n",
    "else:\n",
    "    print(f\"{num1} is not completely divisable by {num2}\")"
   ]
  },
  {
   "cell_type": "markdown",
   "metadata": {},
   "source": [
    "# 4.Program Console Output:\\n\",\n",
    "##### Enter Radius of Sphere: 1\\n\",\n",
    "###### Volume of the Sphere with Radius 1 is 4.18\"\n"
   ]
  },
  {
   "cell_type": "code",
   "execution_count": 13,
   "metadata": {},
   "outputs": [
    {
     "name": "stdout",
     "output_type": "stream",
     "text": [
      "Enter Radius of a Sphere1\n",
      "Volume of a Sphere with Radius 1.0 is 4.189333333333333\n"
     ]
    }
   ],
   "source": [
    "radius = float(input(\"Enter Radius of a Sphere\"))\n",
    "volume = (4/3)*3.142*radius**3\n",
    "print(f\"Volume of a Sphere with Radius {radius} is {volume}\")"
   ]
  },
  {
   "cell_type": "markdown",
   "metadata": {},
   "source": [
    "# 5. Copy string n times\\n\",\n",
    "#### Write a Python program to get a string which is n (non-negative integer) copies of a given string.\\n\",\n",
    "##### Program Console Output:\\n\",\n",
    "##### Enter String: Hi\\n\",\n",
    "###### How many copies of String you need: 4\\n\",\n",
    "###### 4 Copies of Hi are HiHiHiHi\""
   ]
  },
  {
   "cell_type": "code",
   "execution_count": 14,
   "metadata": {},
   "outputs": [
    {
     "name": "stdout",
     "output_type": "stream",
     "text": [
      "Enter nameMuhammad\n",
      "Enter Number of Copies5\n",
      "MuhammadMuhammadMuhammadMuhammadMuhammad\n"
     ]
    }
   ],
   "source": [
    "name = input(\"Enter name\")\n",
    "num = int(input(\"Enter Number of Copies\"))\n",
    "val = name*num\n",
    "print(val)"
   ]
  },
  {
   "cell_type": "markdown",
   "metadata": {},
   "source": [
    "# 6. Check if number is Even or Odd\\n\",\n",
    "### Write a Python program to find whether a given number (accept from the user) is even or odd, print out an appropriate message to the user\\n\",\n",
    "#### Program Console Output 1:\\n\",\n",
    "##### Enter Number: 4\\n\",\n",
    "###### 4 is Even\\n\",\n",
    "#### Program Console Output 2:\\n\",\n",
    "##### Enter Number: 9\\n\",\n",
    "###### 9 is Odd\""
   ]
  },
  {
   "cell_type": "code",
   "execution_count": 27,
   "metadata": {},
   "outputs": [
    {
     "name": "stdout",
     "output_type": "stream",
     "text": [
      "Enter Number4\n",
      "Number is Even\n"
     ]
    }
   ],
   "source": [
    "num = int(input(\"Enter Number\"))\n",
    "check = num%2\n",
    "if check==0:\n",
    "    print(\"Number is Even\")\n",
    "else:\n",
    "    print(\"Number is Odd\")"
   ]
  },
  {
   "cell_type": "code",
   "execution_count": 28,
   "metadata": {},
   "outputs": [
    {
     "name": "stdout",
     "output_type": "stream",
     "text": [
      "Enter Number9\n",
      "Number is Odd\n"
     ]
    }
   ],
   "source": [
    "num = int(input(\"Enter Number\"))\n",
    "check = num%2\n",
    "if check==0:\n",
    "    print(\"Number is Even\")\n",
    "else:\n",
    "    print(\"Number is Odd\")"
   ]
  },
  {
   "cell_type": "markdown",
   "metadata": {},
   "source": [
    "# 7. Vowel Tester\\n\",\n",
    "### Write a Python program to test whether a passed letter is a vowel or not\\n\",\n",
    "#### Program Console Output 1:\\n\",\n",
    "##### Enter a character: A\\n\",\n",
    "###### Letter A is Vowel\\n\",\n",
    "#### Program Console Output 2:\\n\",\n",
    "##### Enter a character: e\\n\",\n",
    "###### Letter e is Vowel\\n\",\n",
    "#### Program Console Output 2:\\n\",\n",
    "##### Enter a character: N\\n\",\n",
    "###### Letter N is not Vowel\""
   ]
  },
  {
   "cell_type": "code",
   "execution_count": 21,
   "metadata": {},
   "outputs": [
    {
     "name": "stdout",
     "output_type": "stream",
     "text": [
      "Enter Letterj\n",
      "Letter j is not Vowel\n"
     ]
    }
   ],
   "source": [
    "letter = input(\"Enter Letter\")\n",
    "if(letter=='A' or letter=='E' or letter=='I' or letter=='O' or letter=='U' or letter=='a' or letter=='e' or letter=='i' or letter=='o' or letter=='u' ):\n",
    "    print(f\"Letter {letter} is Vowel\")\n",
    "else:\n",
    "    print(f\"Letter {letter} is not Vowel\")"
   ]
  },
  {
   "cell_type": "code",
   "execution_count": 22,
   "metadata": {},
   "outputs": [
    {
     "name": "stdout",
     "output_type": "stream",
     "text": [
      "Enter Letteri\n",
      "Letter i is Vowel\n"
     ]
    }
   ],
   "source": [
    "letter = input(\"Enter Letter\")\n",
    "if(letter=='A' or letter=='E' or letter=='I' or letter=='O' or letter=='U' or letter=='a' or letter=='e' or letter=='i' or letter=='o' or letter=='u' ):\n",
    "    print(f\"Letter {letter} is Vowel\")\n",
    "else:\n",
    "    print(f\"Letter {letter} is not Vowel\")"
   ]
  },
  {
   "cell_type": "markdown",
   "metadata": {},
   "source": [
    "# 8. Triangle area\\n\",\n",
    "### Write a Python program that will accept the base and height of a triangle and compute the area\\n\",\n",
    "###### Reference:\\n\",\n",
    "https://www.mathgoodies.com/lessons/vol1/area_triangle"
   ]
  },
  {
   "cell_type": "code",
   "execution_count": 23,
   "metadata": {},
   "outputs": [
    {
     "name": "stdout",
     "output_type": "stream",
     "text": [
      "Enter Base of a Triangle4\n",
      "Enter Height of a Triangle7\n",
      "Area of Triangle : 14.0\n"
     ]
    }
   ],
   "source": [
    "base = float(input(\"Enter Base of a Triangle\"))\n",
    "height = float(input(\"Enter Height of a Triangle\"))\n",
    "area = (1/2)*base*height\n",
    "print(f\"Area of Triangle : {area}\")\n"
   ]
  },
  {
   "cell_type": "markdown",
   "metadata": {},
   "source": [
    "# 9. Calculate Interest\\n\",\n",
    "### Write a Python program to compute the future value of a specified principal amount, rate of interest, and a number of years\\n\",\n",
    "#### Program Console Sample 1:\\n\",\n",
    "##### Please enter principal amount: 10000\\n\",\n",
    "###### Please Enter Rate of interest in %: 0.1\\n\",\n",
    "###### Enter number of years for investment: 5\\n\",\n",
    "###### After 5 years your principal amount 10000 over an interest rate of 0.1 % will be 16105.1\""
   ]
  },
  {
   "cell_type": "code",
   "execution_count": 24,
   "metadata": {},
   "outputs": [
    {
     "name": "stdout",
     "output_type": "stream",
     "text": [
      "Please enter principal amount: 10000\n",
      "Please Enter Rate of interest in %: 0.1\n",
      "Enter number of years for investment: 5\n",
      "After 5  years your principal ammount 10000 over an interest rate of 0.1 % will be 16105.1\n"
     ]
    }
   ],
   "source": [
    "amount = int(input(\"Please enter principal amount: \"))\n",
    "interest = float(input(\"Please Enter Rate of interest in %: \"))\n",
    "years = int(input(\"Enter number of years for investment: \"))\n",
    "value = amount*((1+interest)**years)\n",
    "print(f\"After {years}  years your principal ammount {amount} over an interest rate of {interest} % will be {round(value,2)}\")\n"
   ]
  },
  {
   "cell_type": "markdown",
   "metadata": {},
   "source": [
    "# 10. Euclidean distance\\n\",\n",
    "### write a Python program to compute the distance between the points (x1, y1) and (x2, y2).\\n\",\n",
    "#### Program Console Sample 1:\\n\",\n",
    "###### Enter Co-ordinate for x1: 2\\n\",\n",
    "###### Enter Co-ordinate for x2: 4\\n\",\n",
    "###### Enter Co-ordinate for y1: 4\\n\",\n",
    "###### Enter Co-ordinate for y2: 4\\n\",\n",
    "###### Distance between points (2, 4) and (4, 4) is 2\"\n",
    "\n",
    "###### Reference:\\n\",\n",
    "https://en.wikipedia.org/wiki/Euclidean_distance"
   ]
  },
  {
   "cell_type": "code",
   "execution_count": 26,
   "metadata": {},
   "outputs": [
    {
     "name": "stdout",
     "output_type": "stream",
     "text": [
      "Enter Co-ordinate for x1 : 5\n",
      "Enter Co-ordinate for x2 : 4\n",
      "Enter Co-ordinate for y1 : 8\n",
      "Enter Co-ordinate for y2 : 6\n",
      "Distance between points (x1,x2) and (y1,y2) is 2.236\n"
     ]
    }
   ],
   "source": [
    "x1 = int(input(\"Enter Co-ordinate for x1 : \"))\n",
    "x2 = int(input(\"Enter Co-ordinate for x2 : \"))\n",
    "y1 = int(input(\"Enter Co-ordinate for y1 : \"))\n",
    "y2 = int(input(\"Enter Co-ordinate for y2 : \"))\n",
    "\n",
    "sq = (x2-x1)**(2)+(y2-y1)**(2)\n",
    "d = sq**(0.5)\n",
    "print(f\"Distance between points (x1,x2) and (y1,y2) is {round (d,3)}\")"
   ]
  },
  {
   "cell_type": "markdown",
   "metadata": {},
   "source": [
    "# 11. Feet to Centimeter Converter\\n\",\n",
    "### Write a Python program to convert height in feet to centimetres.\\n\",\n",
    "##### Program Console Sample 1:\\n\",\n",
    "###### Enter Height in Feet: 5\\n\",\n",
    "###### There are 152.4 Cm in 5 ft\\n\",\n",
    "###### Reference:\\n\",\n",
    "https://www.rapidtables.com/convert/length/feet-to-cm.html\""
   ]
  },
  {
   "cell_type": "code",
   "execution_count": 30,
   "metadata": {},
   "outputs": [
    {
     "name": "stdout",
     "output_type": "stream",
     "text": [
      "Enter Height in Feet5\n",
      "5.0 Feet is equal to 152.4 Centimeters \n"
     ]
    }
   ],
   "source": [
    "height_feet = float(input(\"Enter Height in Feet\"))\n",
    "height_in_cent = height_feet*30.48\n",
    "print(f\"{height_feet} Feet is equal to {height_in_cent} Centimeters \")"
   ]
  },
  {
   "cell_type": "markdown",
   "metadata": {},
   "source": [
    "# 12. BMI Calculator\",\n",
    "#### Write a Python program to calculate body mass index\",\n",
    "#### Program Console Sample 1\",\n",
    "#### Enter Height in Cm: 180\",\n",
    "#### Enter Weight in Kg: 75\",\n",
    "#### Your BMI is 23.15\""
   ]
  },
  {
   "cell_type": "code",
   "execution_count": 34,
   "metadata": {},
   "outputs": [
    {
     "name": "stdout",
     "output_type": "stream",
     "text": [
      "Enter Height in Cm : 180\n",
      "Enter Weight : 75\n",
      "Your BMI is 23.15\n"
     ]
    }
   ],
   "source": [
    "height_cm = float(input(\"Enter Height in Cm : \"))\n",
    "weight = float(input(\"Enter Weight : \"))\n",
    "BMI = weight/(height_cm*0.01)**2\n",
    "print(f\"Your BMI is {round (BMI,2)}\")\n"
   ]
  },
  {
   "cell_type": "markdown",
   "metadata": {},
   "source": [
    "# 13. Sum of n Positive Integers\\n\",\n",
    "#### Write a python program to sum of the first n positive integers\",\n",
    "#### Program Console Sample 1:\",\n",
    "#### Enter value of n: 5\",\n",
    "#### Sum of n Positive integers till 5 is 15"
   ]
  },
  {
   "cell_type": "code",
   "execution_count": 35,
   "metadata": {},
   "outputs": [
    {
     "name": "stdout",
     "output_type": "stream",
     "text": [
      "Enter Number : 5\n",
      "Sum of n Positive integers till 5 is 15.0\n"
     ]
    }
   ],
   "source": [
    "number = int(input(\"Enter Number : \"))\n",
    "sumnum = (number * (number + 1 ))/2\n",
    "print(f\"Sum of n Positive integers till {number} is {sumnum}\")"
   ]
  },
  {
   "cell_type": "markdown",
   "metadata": {},
   "source": [
    "# 14. Digits Sum of a Number\",\n",
    "### Write a Python program to calculate the sum of the digits in an integer\",\n",
    "#### Program Console Sample 1:\",\n",
    "##### Enter a number: 15\",\n",
    "###### Sum of 1 + 5 is 6\",\n",
    "#### Program Console Sample 2:\",\n",
    "##### Enter a number: 1234\",\n",
    "###### Sum of 1 + 2 + 3 + 4 is 10\""
   ]
  },
  {
   "cell_type": "code",
   "execution_count": 36,
   "metadata": {},
   "outputs": [
    {
     "name": "stdout",
     "output_type": "stream",
     "text": [
      "Enter a number : 1234\n",
      "Sum of 1+2+3+4 is 10\n"
     ]
    }
   ],
   "source": [
    "num = int(input(\"Enter a number : \"))\n",
    "value = num // 1000\n",
    "value1=(num-value*1000)//100\n",
    "value2=(num-value*1000-value1*100)//10\n",
    "value3=num-value*1000-value1*100-value2*10\n",
    "print(f\"Sum of {value}+{value1}+{value2}+{value3} is {value+value1+value2+value3}\")"
   ]
  },
  {
   "cell_type": "code",
   "execution_count": null,
   "metadata": {},
   "outputs": [],
   "source": []
  }
 ],
 "metadata": {
  "kernelspec": {
   "display_name": "Python 3",
   "language": "python",
   "name": "python3"
  },
  "language_info": {
   "codemirror_mode": {
    "name": "ipython",
    "version": 3
   },
   "file_extension": ".py",
   "mimetype": "text/x-python",
   "name": "python",
   "nbconvert_exporter": "python",
   "pygments_lexer": "ipython3",
   "version": "3.7.2"
  }
 },
 "nbformat": 4,
 "nbformat_minor": 2
}
